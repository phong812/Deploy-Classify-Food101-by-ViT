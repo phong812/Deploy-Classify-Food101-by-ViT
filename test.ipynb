{
 "cells": [
  {
   "cell_type": "code",
   "execution_count": 7,
   "metadata": {},
   "outputs": [],
   "source": [
    "import torch\n",
    "import torchvision\n",
    "import os \n",
    "import pyrootutils\n",
    "from tqdm.auto import tqdm\n",
    "from PIL import Image\n",
    "from torchvision import transforms\n",
    "from data_setup import get_data_loaders\n",
    "from utils import save_checkpoint, load_checkpoint, predict_plot_image, create_vit_best_model\n",
    "from train import train_model, train_step\n",
    "from model import VisionTransformer\n",
    "from imageio import imread\n",
    "\n",
    "NUM_WORKERS = os.cpu_count()\n",
    "device = \"cuda\" if torch.cuda.is_available() else \"cpu\"\n",
    "EPOCHS = 2\n",
    "BATCH_SIZE = 32\n",
    "RANDOM_SEED = 42\n",
    "torch.manual_seed(RANDOM_SEED)\n",
    "# path = \n",
    "# path = pyrootutils.find_root(__file__, indicator=\".project-root\")\n",
    "# data_dir = path / \"data\" / \"food-101-tiny\"\n",
    "# data_dir = \".../data/food-101-tiny\"\n",
    "path = os.getcwd()\n",
    "data_dir = os.path.join(path, \"data\", \"food-101-tiny\")\n",
    "train_dir = os.path.join(data_dir, \"train\")\n",
    "test_dir = os.path.join(data_dir, \"valid\")\n",
    "model_dir = os.path.join(path, \"models\")\n"
   ]
  },
  {
   "cell_type": "code",
   "execution_count": 4,
   "metadata": {},
   "outputs": [
    {
     "data": {
      "text/plain": [
       "'cuda'"
      ]
     },
     "execution_count": 4,
     "metadata": {},
     "output_type": "execute_result"
    }
   ],
   "source": [
    "device"
   ]
  },
  {
   "cell_type": "code",
   "execution_count": 8,
   "metadata": {},
   "outputs": [
    {
     "data": {
      "text/plain": [
       "'c:\\\\Users\\\\Gia Phong\\\\Downloads\\\\Python\\\\ViT\\\\data\\\\food-101-tiny\\\\train'"
      ]
     },
     "execution_count": 8,
     "metadata": {},
     "output_type": "execute_result"
    }
   ],
   "source": [
    "train_dir"
   ]
  },
  {
   "cell_type": "code",
   "execution_count": 9,
   "metadata": {},
   "outputs": [
    {
     "data": {
      "text/plain": [
       "(10, list)"
      ]
     },
     "execution_count": 9,
     "metadata": {},
     "output_type": "execute_result"
    }
   ],
   "source": [
    "data_transform = transforms.Compose([\n",
    "        transforms.Resize((224, 224)),\n",
    "        transforms.ToTensor()\n",
    "    ])\n",
    "\n",
    "train_dataloader, test_dataloader, classes = get_data_loaders(train_dir, test_dir,\n",
    "                                                              data_transform, BATCH_SIZE, NUM_WORKERS)\n",
    "\n",
    "len(classes), type(classes)"
   ]
  },
  {
   "cell_type": "code",
   "execution_count": 42,
   "metadata": {},
   "outputs": [],
   "source": [
    "vit = VisionTransformer(img_size=224, in_channels=3, patch_size=16, emb_dim=768, \n",
    "                            n_heads=12, mlp_size=3072, num_transformer_layers=12, \n",
    "                            num_classes=10, dropout=0.1).to(device)\n",
    "\n",
    "optimizer = torch.optim.Adam(vit.parameters(), lr=3e-2, betas=(0.9, 0.999), weight_decay=0.3)\n",
    "loss_fn = torch.nn.CrossEntropyLoss()"
   ]
  },
  {
   "cell_type": "code",
   "execution_count": 31,
   "metadata": {},
   "outputs": [
    {
     "name": "stdout",
     "output_type": "stream",
     "text": [
      "[INFO] Loading model from: C:/Users/Gia Phong/Downloads/ViT/models/vit.pt\n"
     ]
    }
   ],
   "source": [
    "first_save = model_dir + \"/vit.pt\"\n",
    "vit2 = load_checkpoint(vit, model_save_path=first_save)"
   ]
  },
  {
   "cell_type": "code",
   "execution_count": null,
   "metadata": {},
   "outputs": [],
   "source": [
    "# predict_plot_image(model=vit, image_path=test_image_path, \n",
    "#                    class_names=classes, \n",
    "#                    transform=data_transform)"
   ]
  },
  {
   "cell_type": "code",
   "execution_count": null,
   "metadata": {},
   "outputs": [
    {
     "name": "stdout",
     "output_type": "stream",
     "text": [
      "[INFO] Loading model from: C:/Users/Gia Phong/Downloads/ViT/models/vit.pt\n",
      "Training model...\n",
      "\n"
     ]
    },
    {
     "name": "stderr",
     "output_type": "stream",
     "text": [
      " 50%|█████     | 1/2 [18:38<18:38, 1118.53s/it]"
     ]
    },
    {
     "name": "stdout",
     "output_type": "stream",
     "text": [
      "Epoch: 1 | train_loss: 12.5948 | train_acc: 0.1101 | test_loss: 4.6510 | test_acc: 0.0977\n"
     ]
    },
    {
     "name": "stderr",
     "output_type": "stream",
     "text": [
      "100%|██████████| 2/2 [37:18<00:00, 1119.48s/it]"
     ]
    },
    {
     "name": "stdout",
     "output_type": "stream",
     "text": [
      "Epoch: 2 | train_loss: 2.4071 | train_acc: 0.0961 | test_loss: 2.3156 | test_acc: 0.0977\n"
     ]
    },
    {
     "name": "stderr",
     "output_type": "stream",
     "text": [
      "\n"
     ]
    },
    {
     "data": {
      "text/plain": [
       "{'train_loss': [12.594774438979778, 2.407092977077403],\n",
       " 'train_acc': [0.11008738601823709, 0.09612462006079028],\n",
       " 'test_loss': [4.650964077562094, 2.315646395087242],\n",
       " 'test_acc': [0.09765625, 0.09765625]}"
      ]
     },
     "execution_count": 14,
     "metadata": {},
     "output_type": "execute_result"
    }
   ],
   "source": [
    "vit2 = load_checkpoint(vit, model_dir + \"/vit.pt\")\n",
    "train_model(vit, train_dataloader, test_dataloader, optimizer, loss_fn, EPOCHS, device)"
   ]
  },
  {
   "cell_type": "code",
   "execution_count": null,
   "metadata": {},
   "outputs": [
    {
     "name": "stdout",
     "output_type": "stream",
     "text": [
      "[INFO] Saving model to: C:\\Users\\Gia Phong\\Downloads\\ViT\\models\\vit2.pt\n"
     ]
    }
   ],
   "source": [
    "save_checkpoint(vit, path + \"/models\", \"vit2.pt\")"
   ]
  },
  {
   "cell_type": "code",
   "execution_count": null,
   "metadata": {},
   "outputs": [],
   "source": [
    "vit_2 = VisionTransformer(img_size=224, in_channels=3, patch_size=16, emb_dim=768,\n",
    "                            n_heads=12, mlp_size=3072, num_transformer_layers=12,\n",
    "                            num_classes=10, dropout=0.1).to(device)"
   ]
  },
  {
   "cell_type": "code",
   "execution_count": null,
   "metadata": {},
   "outputs": [
    {
     "name": "stdout",
     "output_type": "stream",
     "text": [
      "[INFO] Loading model from: C:/Users/Gia Phong/Downloads/ViT/models/vit2.pt\n"
     ]
    }
   ],
   "source": [
    "load_checkpoint(vit_2, model_dir + \"/vit2.pt\")"
   ]
  },
  {
   "cell_type": "code",
   "execution_count": null,
   "metadata": {},
   "outputs": [
    {
     "name": "stdout",
     "output_type": "stream",
     "text": [
      "Training model...\n",
      "\n"
     ]
    },
    {
     "name": "stderr",
     "output_type": "stream",
     "text": [
      " 50%|█████     | 1/2 [17:20<17:20, 1040.34s/it]"
     ]
    },
    {
     "name": "stdout",
     "output_type": "stream",
     "text": [
      "Epoch: 1 | train_loss: 2.3162 | train_acc: 0.0992 | test_loss: 2.3138 | test_acc: 0.0957\n"
     ]
    },
    {
     "name": "stderr",
     "output_type": "stream",
     "text": [
      "100%|██████████| 2/2 [34:26<00:00, 1033.15s/it]"
     ]
    },
    {
     "name": "stdout",
     "output_type": "stream",
     "text": [
      "Epoch: 2 | train_loss: 2.3162 | train_acc: 0.0986 | test_loss: 2.3137 | test_acc: 0.0957\n"
     ]
    },
    {
     "name": "stderr",
     "output_type": "stream",
     "text": [
      "\n"
     ]
    },
    {
     "data": {
      "text/plain": [
       "{'train_loss': [2.316249446665987, 2.31622828321254],\n",
       " 'train_acc': [0.09916413373860182, 0.09859422492401215],\n",
       " 'test_loss': [2.3138061314821243, 2.3137454986572266],\n",
       " 'test_acc': [0.095703125, 0.095703125]}"
      ]
     },
     "execution_count": 22,
     "metadata": {},
     "output_type": "execute_result"
    }
   ],
   "source": [
    "train_model(vit_2, train_dataloader, test_dataloader, optimizer, loss_fn, EPOCHS, device)"
   ]
  },
  {
   "cell_type": "code",
   "execution_count": 36,
   "metadata": {},
   "outputs": [
    {
     "name": "stdout",
     "output_type": "stream",
     "text": [
      "[INFO] Loading model from: C:/Users/Gia Phong/Downloads/ViT/models/vit3.pt\n"
     ]
    }
   ],
   "source": [
    "load_checkpoint(vit3, model_dir + \"/vit3.pt\")"
   ]
  },
  {
   "cell_type": "code",
   "execution_count": 37,
   "metadata": {},
   "outputs": [
    {
     "name": "stdout",
     "output_type": "stream",
     "text": [
      "Training model...\n",
      "\n"
     ]
    },
    {
     "name": "stderr",
     "output_type": "stream",
     "text": [
      " 50%|█████     | 1/2 [09:20<09:20, 560.94s/it]"
     ]
    },
    {
     "name": "stdout",
     "output_type": "stream",
     "text": [
      "Epoch: 1 | train_loss: 2.3175 | train_acc: 0.0990 | test_loss: 2.3140 | test_acc: 0.0977\n"
     ]
    },
    {
     "name": "stderr",
     "output_type": "stream",
     "text": [
      "100%|██████████| 2/2 [18:41<00:00, 560.83s/it]"
     ]
    },
    {
     "name": "stdout",
     "output_type": "stream",
     "text": [
      "Epoch: 2 | train_loss: 2.3162 | train_acc: 0.0980 | test_loss: 2.3140 | test_acc: 0.0977\n"
     ]
    },
    {
     "name": "stderr",
     "output_type": "stream",
     "text": [
      "\n"
     ]
    },
    {
     "data": {
      "text/plain": [
       "{'train_loss': [2.317519783973694, 2.316210816303889],\n",
       " 'train_acc': [0.09895833333333333, 0.09802827380952382],\n",
       " 'test_loss': [2.314021557569504, 2.314018815755844],\n",
       " 'test_acc': [0.09765625, 0.09765625]}"
      ]
     },
     "execution_count": 37,
     "metadata": {},
     "output_type": "execute_result"
    }
   ],
   "source": [
    "train_model(vit3, train_dataloader, test_dataloader, optimizer, loss_fn, EPOCHS, device)"
   ]
  },
  {
   "cell_type": "code",
   "execution_count": null,
   "metadata": {},
   "outputs": [],
   "source": [
    "test_image_path = test_dir + \"/cannoli/1266692.jpg\""
   ]
  },
  {
   "cell_type": "code",
   "execution_count": null,
   "metadata": {},
   "outputs": [],
   "source": []
  }
 ],
 "metadata": {
  "kernelspec": {
   "display_name": "myenv",
   "language": "python",
   "name": "python3"
  },
  "language_info": {
   "codemirror_mode": {
    "name": "ipython",
    "version": 3
   },
   "file_extension": ".py",
   "mimetype": "text/x-python",
   "name": "python",
   "nbconvert_exporter": "python",
   "pygments_lexer": "ipython3",
   "version": "3.10.14"
  }
 },
 "nbformat": 4,
 "nbformat_minor": 2
}
